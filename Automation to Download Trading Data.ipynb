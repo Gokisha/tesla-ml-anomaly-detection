{
 "cells": [
  {
   "cell_type": "code",
   "execution_count": 1,
   "id": "f3da6f4d-2894-4538-be7b-ed60193dcbfd",
   "metadata": {},
   "outputs": [
    {
     "name": "stdout",
     "output_type": "stream",
     "text": [
      "Collecting yfinance\n",
      "  Downloading yfinance-0.2.65-py2.py3-none-any.whl.metadata (5.8 kB)\n",
      "Requirement already satisfied: pandas>=1.3.0 in c:\\users\\groot\\anaconda3\\lib\\site-packages (from yfinance) (2.2.2)\n",
      "Requirement already satisfied: numpy>=1.16.5 in c:\\users\\groot\\anaconda3\\lib\\site-packages (from yfinance) (1.26.4)\n",
      "Requirement already satisfied: requests>=2.31 in c:\\users\\groot\\anaconda3\\lib\\site-packages (from yfinance) (2.32.2)\n",
      "Collecting multitasking>=0.0.7 (from yfinance)\n",
      "  Downloading multitasking-0.0.12.tar.gz (19 kB)\n",
      "  Preparing metadata (setup.py): started\n",
      "  Preparing metadata (setup.py): finished with status 'done'\n",
      "Requirement already satisfied: platformdirs>=2.0.0 in c:\\users\\groot\\anaconda3\\lib\\site-packages (from yfinance) (3.10.0)\n",
      "Requirement already satisfied: pytz>=2022.5 in c:\\users\\groot\\anaconda3\\lib\\site-packages (from yfinance) (2024.1)\n",
      "Requirement already satisfied: frozendict>=2.3.4 in c:\\users\\groot\\anaconda3\\lib\\site-packages (from yfinance) (2.4.2)\n",
      "Collecting peewee>=3.16.2 (from yfinance)\n",
      "  Downloading peewee-3.18.2.tar.gz (949 kB)\n",
      "     ---------------------------------------- 0.0/949.2 kB ? eta -:--:--\n",
      "     -- ---------------------------------- 71.7/949.2 kB 975.2 kB/s eta 0:00:01\n",
      "     ---- --------------------------------- 122.9/949.2 kB 1.0 MB/s eta 0:00:01\n",
      "     ------------ ------------------------- 317.4/949.2 kB 1.8 MB/s eta 0:00:01\n",
      "     ------------------------- ------------ 634.9/949.2 kB 2.9 MB/s eta 0:00:01\n",
      "     ------------------------------------ - 901.1/949.2 kB 3.3 MB/s eta 0:00:01\n",
      "     -------------------------------------- 949.2/949.2 kB 3.2 MB/s eta 0:00:00\n",
      "  Installing build dependencies: started\n",
      "  Installing build dependencies: finished with status 'done'\n",
      "  Getting requirements to build wheel: started\n",
      "  Getting requirements to build wheel: finished with status 'done'\n",
      "  Preparing metadata (pyproject.toml): started\n",
      "  Preparing metadata (pyproject.toml): finished with status 'done'\n",
      "Requirement already satisfied: beautifulsoup4>=4.11.1 in c:\\users\\groot\\anaconda3\\lib\\site-packages (from yfinance) (4.12.3)\n",
      "Collecting curl_cffi>=0.7 (from yfinance)\n",
      "  Downloading curl_cffi-0.12.0-cp39-abi3-win_amd64.whl.metadata (15 kB)\n",
      "Requirement already satisfied: protobuf>=3.19.0 in c:\\users\\groot\\anaconda3\\lib\\site-packages (from yfinance) (3.20.3)\n",
      "Collecting websockets>=13.0 (from yfinance)\n",
      "  Downloading websockets-15.0.1-cp312-cp312-win_amd64.whl.metadata (7.0 kB)\n",
      "Requirement already satisfied: soupsieve>1.2 in c:\\users\\groot\\anaconda3\\lib\\site-packages (from beautifulsoup4>=4.11.1->yfinance) (2.5)\n",
      "Requirement already satisfied: cffi>=1.12.0 in c:\\users\\groot\\anaconda3\\lib\\site-packages (from curl_cffi>=0.7->yfinance) (1.16.0)\n",
      "Requirement already satisfied: certifi>=2024.2.2 in c:\\users\\groot\\anaconda3\\lib\\site-packages (from curl_cffi>=0.7->yfinance) (2024.6.2)\n",
      "Requirement already satisfied: python-dateutil>=2.8.2 in c:\\users\\groot\\anaconda3\\lib\\site-packages (from pandas>=1.3.0->yfinance) (2.9.0.post0)\n",
      "Requirement already satisfied: tzdata>=2022.7 in c:\\users\\groot\\anaconda3\\lib\\site-packages (from pandas>=1.3.0->yfinance) (2023.3)\n",
      "Requirement already satisfied: charset-normalizer<4,>=2 in c:\\users\\groot\\anaconda3\\lib\\site-packages (from requests>=2.31->yfinance) (2.0.4)\n",
      "Requirement already satisfied: idna<4,>=2.5 in c:\\users\\groot\\anaconda3\\lib\\site-packages (from requests>=2.31->yfinance) (3.7)\n",
      "Requirement already satisfied: urllib3<3,>=1.21.1 in c:\\users\\groot\\anaconda3\\lib\\site-packages (from requests>=2.31->yfinance) (2.2.2)\n",
      "Requirement already satisfied: pycparser in c:\\users\\groot\\anaconda3\\lib\\site-packages (from cffi>=1.12.0->curl_cffi>=0.7->yfinance) (2.21)\n",
      "Requirement already satisfied: six>=1.5 in c:\\users\\groot\\anaconda3\\lib\\site-packages (from python-dateutil>=2.8.2->pandas>=1.3.0->yfinance) (1.16.0)\n",
      "Downloading yfinance-0.2.65-py2.py3-none-any.whl (119 kB)\n",
      "   ---------------------------------------- 0.0/119.4 kB ? eta -:--:--\n",
      "   ---------------------------------------- 119.4/119.4 kB 6.8 MB/s eta 0:00:00\n",
      "Downloading curl_cffi-0.12.0-cp39-abi3-win_amd64.whl (1.6 MB)\n",
      "   ---------------------------------------- 0.0/1.6 MB ? eta -:--:--\n",
      "   ----- ---------------------------------- 0.2/1.6 MB 4.1 MB/s eta 0:00:01\n",
      "   ------------ --------------------------- 0.5/1.6 MB 5.4 MB/s eta 0:00:01\n",
      "   ------------------ --------------------- 0.8/1.6 MB 4.8 MB/s eta 0:00:01\n",
      "   ----------------------- ---------------- 1.0/1.6 MB 5.0 MB/s eta 0:00:01\n",
      "   --------------------------- ------------ 1.1/1.6 MB 4.7 MB/s eta 0:00:01\n",
      "   ---------------------------------- ----- 1.4/1.6 MB 4.9 MB/s eta 0:00:01\n",
      "   ------------------------------------ --- 1.5/1.6 MB 4.3 MB/s eta 0:00:01\n",
      "   ---------------------------------------- 1.6/1.6 MB 4.3 MB/s eta 0:00:00\n",
      "Downloading websockets-15.0.1-cp312-cp312-win_amd64.whl (176 kB)\n",
      "   ---------------------------------------- 0.0/176.8 kB ? eta -:--:--\n",
      "   ---------------------------------------- 176.8/176.8 kB 3.5 MB/s eta 0:00:00\n",
      "Building wheels for collected packages: multitasking, peewee\n",
      "  Building wheel for multitasking (setup.py): started\n",
      "  Building wheel for multitasking (setup.py): finished with status 'done'\n",
      "  Created wheel for multitasking: filename=multitasking-0.0.12-py3-none-any.whl size=15617 sha256=6c173f478d5058a922526499ac71c7bc7bd7388d4896736943f54e135cb5d3a2\n",
      "  Stored in directory: c:\\users\\groot\\appdata\\local\\pip\\cache\\wheels\\cc\\bd\\6f\\664d62c99327abeef7d86489e6631cbf45b56fbf7ef1d6ef00\n",
      "  Building wheel for peewee (pyproject.toml): started\n",
      "  Building wheel for peewee (pyproject.toml): finished with status 'done'\n",
      "  Created wheel for peewee: filename=peewee-3.18.2-py3-none-any.whl size=139153 sha256=336c019d3184035092ab379f0a422a4cdd23245deaa632aa3b2a3c272f37f0c0\n",
      "  Stored in directory: c:\\users\\groot\\appdata\\local\\pip\\cache\\wheels\\d1\\df\\a9\\0202b051c65b11c992dd6db9f2babdd2c44ec7d35d511be5d3\n",
      "Successfully built multitasking peewee\n",
      "Installing collected packages: peewee, multitasking, websockets, curl_cffi, yfinance\n",
      "Successfully installed curl_cffi-0.12.0 multitasking-0.0.12 peewee-3.18.2 websockets-15.0.1 yfinance-0.2.65\n",
      "Note: you may need to restart the kernel to use updated packages.\n"
     ]
    }
   ],
   "source": [
    "pip install yfinance"
   ]
  },
  {
   "cell_type": "code",
   "execution_count": 2,
   "id": "ada4284d-f8a8-436d-8b13-6dc999ca3580",
   "metadata": {},
   "outputs": [
    {
     "name": "stderr",
     "output_type": "stream",
     "text": [
      "C:\\Users\\Groot\\AppData\\Local\\Temp\\ipykernel_16548\\3721281365.py:5: FutureWarning: YF.download() has changed argument auto_adjust default to True\n",
      "  data = yf.download(tickers=symbol, period=\"365d\", interval=\"1h\", progress=False)\n"
     ]
    },
    {
     "name": "stdout",
     "output_type": "stream",
     "text": [
      "Downloaded: RELIANCE.NS_1hour_data.csv\n"
     ]
    }
   ],
   "source": [
    "import yfinance as yf\n",
    "\n",
    "# Download 1-hour interval data for the past 365 days\n",
    "symbol = \"RELIANCE.NS\"\n",
    "data = yf.download(tickers=symbol, period=\"365d\", interval=\"1h\", progress=False)\n",
    "\n",
    "data.to_csv(f\"{symbol}_1hour_data.csv\")\n",
    "print(f\"Downloaded: {symbol}_1hour_data.csv\")"
   ]
  },
  {
   "cell_type": "code",
   "execution_count": 3,
   "id": "0c45a55e-e613-4c67-97e4-7e0ef86b83a8",
   "metadata": {},
   "outputs": [
    {
     "name": "stdin",
     "output_type": "stream",
     "text": [
      "Enter stock symbol (e.g., RELIANCE.NS):  TSLA\n",
      "Enter interval ['1m', '2m', '5m', '15m', '30m', '60m', '90m', '1h', '1d', '5d', '1wk', '1mo', '3mo']:  1h\n"
     ]
    },
    {
     "name": "stderr",
     "output_type": "stream",
     "text": [
      "C:\\Users\\Groot\\AppData\\Local\\Temp\\ipykernel_16548\\394392250.py:15: FutureWarning: YF.download() has changed argument auto_adjust default to True\n",
      "  data = yf.download(tickers=symbol, period=period, interval=interval, progress=False)\n"
     ]
    },
    {
     "name": "stdout",
     "output_type": "stream",
     "text": [
      "Downloaded: TSLA_1h_data.csv\n"
     ]
    }
   ],
   "source": [
    "import yfinance as yf\n",
    "\n",
    "# Valid intervals\n",
    "valid_intervals = ['1m', '2m', '5m', '15m', '30m', '60m', '90m',\n",
    "                   '1h', '1d', '5d', '1wk', '1mo', '3mo']\n",
    "\n",
    "symbol = input(\"Enter stock symbol (e.g., RELIANCE.NS): \")\n",
    "interval = input(f\"Enter interval {valid_intervals}: \")\n",
    "\n",
    "if interval not in valid_intervals:\n",
    "    print(\"Invalid interval! Please choose from the list.\")\n",
    "else:\n",
    "    period = \"60d\" if interval in ['1m', '2m', '5m', '15m', '30m', '60m', '90m'] else \"365d\"\n",
    "    \n",
    "    data = yf.download(tickers=symbol, period=period, interval=interval, progress=False)\n",
    "    filename = f\"{symbol}_{interval}_data.csv\"\n",
    "    data.to_csv(filename)\n",
    "    print(f\"Downloaded: {filename}\")"
   ]
  },
  {
   "cell_type": "markdown",
   "id": "251f3780-286e-48b8-b73b-0c2bfd2f6aa7",
   "metadata": {},
   "source": [
    "## Automation Option"
   ]
  },
  {
   "cell_type": "code",
   "execution_count": null,
   "id": "f51b78d8-e9e6-4885-b5d7-c625cb5163c6",
   "metadata": {},
   "outputs": [],
   "source": [
    "import tkinter as tk\n",
    "from tkinter import messagebox\n",
    "import yfinance as yf\n",
    "\n",
    "def download_data():\n",
    "    symbol = symbol_entry.get()\n",
    "    interval = interval_var.get()\n",
    "    period = \"60d\" if interval in ['1m','2m','5m','15m','30m','60m','90m'] else \"365d\"\n",
    "    \n",
    "    try:\n",
    "        df = yf.download(tickers=symbol, period=period, interval=interval, progress=False)\n",
    "        file_name = f\"{symbol}_{interval}.csv\"\n",
    "        df.to_csv(file_name)\n",
    "        messagebox.showinfo(\"Success\", f\"Data saved as {file_name}\")\n",
    "    except Exception as e:\n",
    "        messagebox.showerror(\"Error\", str(e))\n",
    "\n",
    "# GUI Layout\n",
    "root = tk.Tk()\n",
    "root.title(\"Yahoo Finance Data Downloader\")\n",
    "\n",
    "tk.Label(root, text=\"Stock Symbol (e.g., TCS.NS):\").grid(row=0, column=0)\n",
    "symbol_entry = tk.Entry(root)\n",
    "symbol_entry.grid(row=0, column=1)\n",
    "\n",
    "tk.Label(root, text=\"Interval:\").grid(row=1, column=0)\n",
    "interval_var = tk.StringVar(root)\n",
    "interval_var.set(\"1h\")  # default\n",
    "interval_menu = tk.OptionMenu(root, interval_var, \"1m\", \"2m\", \"5m\", \"15m\", \"30m\", \"60m\", \"90m\", \"1h\", \"1d\", \"5d\", \"1wk\", \"1mo\", \"3mo\")\n",
    "interval_menu.grid(row=1, column=1)\n",
    "\n",
    "tk.Button(root, text=\"Download\", command=download_data).grid(row=2, column=0, columnspan=2)\n",
    "\n",
    "root.mainloop()"
   ]
  },
  {
   "cell_type": "code",
   "execution_count": null,
   "id": "f37d2134-dd01-4ceb-b635-a60d071bfcb7",
   "metadata": {},
   "outputs": [],
   "source": []
  }
 ],
 "metadata": {
  "kernelspec": {
   "display_name": "Python 3 (ipykernel)",
   "language": "python",
   "name": "python3"
  },
  "language_info": {
   "codemirror_mode": {
    "name": "ipython",
    "version": 3
   },
   "file_extension": ".py",
   "mimetype": "text/x-python",
   "name": "python",
   "nbconvert_exporter": "python",
   "pygments_lexer": "ipython3",
   "version": "3.12.4"
  }
 },
 "nbformat": 4,
 "nbformat_minor": 5
}
