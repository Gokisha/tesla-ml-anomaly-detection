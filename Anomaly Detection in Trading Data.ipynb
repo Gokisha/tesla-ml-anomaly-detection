{
 "cells": [
  {
   "cell_type": "code",
   "execution_count": 1,
   "id": "95025220-d676-490f-bc90-e01834d7a15a",
   "metadata": {},
   "outputs": [],
   "source": [
    "import pandas as pd\n",
    "import numpy as np\n",
    "import matplotlib.pyplot as plt"
   ]
  },
  {
   "cell_type": "markdown",
   "id": "32aa7968-235c-48d3-bcea-ef3b612f26c9",
   "metadata": {},
   "source": [
    "## Data Cleaning Process"
   ]
  },
  {
   "cell_type": "code",
   "execution_count": 2,
   "id": "b982c2ac-350a-4fc0-bc0f-c3b58e2af86c",
   "metadata": {},
   "outputs": [],
   "source": [
    "df = pd.read_csv('BAJAJFINSV_minute.csv')"
   ]
  },
  {
   "cell_type": "code",
   "execution_count": 3,
   "id": "e6447bbd-9224-4b24-bbf6-d551f881a5d1",
   "metadata": {},
   "outputs": [],
   "source": [
    "df['date'] = pd.to_datetime(df['date'])"
   ]
  },
  {
   "cell_type": "code",
   "execution_count": 4,
   "id": "aaccdbc5-d3a3-4dac-a736-5b460b41d6c0",
   "metadata": {},
   "outputs": [],
   "source": [
    "df = df.sort_values('date').reset_index(drop = True)"
   ]
  },
  {
   "cell_type": "code",
   "execution_count": 5,
   "id": "ad0c0a49-41bf-4a90-a60c-a5ab0db5d997",
   "metadata": {},
   "outputs": [],
   "source": [
    "df = df.dropna()"
   ]
  },
  {
   "cell_type": "code",
   "execution_count": 8,
   "id": "b617e337-9073-4a3c-87f3-77a3a254bc01",
   "metadata": {},
   "outputs": [
    {
     "data": {
      "text/plain": [
       "date      0\n",
       "open      0\n",
       "high      0\n",
       "low       0\n",
       "close     0\n",
       "volume    0\n",
       "dtype: int64"
      ]
     },
     "execution_count": 8,
     "metadata": {},
     "output_type": "execute_result"
    }
   ],
   "source": [
    "df.isnull().sum()"
   ]
  },
  {
   "cell_type": "markdown",
   "id": "026fffda-38ec-48a5-97eb-1d8227cd18ee",
   "metadata": {},
   "source": [
    "## Engineering Additional features"
   ]
  },
  {
   "cell_type": "code",
   "execution_count": 9,
   "id": "702ec29b-259f-4044-bc74-1bce8a6a62f1",
   "metadata": {},
   "outputs": [],
   "source": [
    "# Simple moving Average SME & Exponential Moving Average\n",
    "\n",
    "df['sma_10'] = df['close'].rolling(window=10).mean()  # Simple Moving Average\n",
    "df['ema_10'] = df['close'].ewm(span=10, adjust=False).mean()  # Exponential MA"
   ]
  },
  {
   "cell_type": "code",
   "execution_count": 10,
   "id": "d65df941-c393-48ad-b2dd-de197b75b7fb",
   "metadata": {},
   "outputs": [],
   "source": [
    "# Price rate of Change\n",
    "\n",
    "df['roc_10'] = df['close'].pct_change(periods=10) * 100"
   ]
  },
  {
   "cell_type": "code",
   "execution_count": 11,
   "id": "fb56a83c-2816-4e56-9d96-c8cc8f4bdb22",
   "metadata": {},
   "outputs": [],
   "source": [
    "# Volume Spikes comapred to last 10 days\n",
    "\n",
    "df['avg_volume_10'] = df['volume'].rolling(window=10).mean()\n",
    "df['volume_spike'] = (df['volume'] > 1.5 * df['avg_volume_10']).astype(int)"
   ]
  },
  {
   "cell_type": "code",
   "execution_count": 12,
   "id": "47e846af-cae5-4f33-ba3e-41274807416c",
   "metadata": {},
   "outputs": [
    {
     "data": {
      "text/html": [
       "<div>\n",
       "<style scoped>\n",
       "    .dataframe tbody tr th:only-of-type {\n",
       "        vertical-align: middle;\n",
       "    }\n",
       "\n",
       "    .dataframe tbody tr th {\n",
       "        vertical-align: top;\n",
       "    }\n",
       "\n",
       "    .dataframe thead th {\n",
       "        text-align: right;\n",
       "    }\n",
       "</style>\n",
       "<table border=\"1\" class=\"dataframe\">\n",
       "  <thead>\n",
       "    <tr style=\"text-align: right;\">\n",
       "      <th></th>\n",
       "      <th>date</th>\n",
       "      <th>open</th>\n",
       "      <th>high</th>\n",
       "      <th>low</th>\n",
       "      <th>close</th>\n",
       "      <th>volume</th>\n",
       "      <th>sma_10</th>\n",
       "      <th>ema_10</th>\n",
       "      <th>roc_10</th>\n",
       "      <th>avg_volume_10</th>\n",
       "      <th>volume_spike</th>\n",
       "    </tr>\n",
       "  </thead>\n",
       "  <tbody>\n",
       "    <tr>\n",
       "      <th>0</th>\n",
       "      <td>2015-02-02 09:15:00</td>\n",
       "      <td>144.30</td>\n",
       "      <td>145.05</td>\n",
       "      <td>144.30</td>\n",
       "      <td>145.05</td>\n",
       "      <td>50</td>\n",
       "      <td>NaN</td>\n",
       "      <td>145.050000</td>\n",
       "      <td>NaN</td>\n",
       "      <td>NaN</td>\n",
       "      <td>0</td>\n",
       "    </tr>\n",
       "    <tr>\n",
       "      <th>1</th>\n",
       "      <td>2015-02-02 09:16:00</td>\n",
       "      <td>145.05</td>\n",
       "      <td>145.05</td>\n",
       "      <td>143.30</td>\n",
       "      <td>143.30</td>\n",
       "      <td>810</td>\n",
       "      <td>NaN</td>\n",
       "      <td>144.731818</td>\n",
       "      <td>NaN</td>\n",
       "      <td>NaN</td>\n",
       "      <td>0</td>\n",
       "    </tr>\n",
       "    <tr>\n",
       "      <th>2</th>\n",
       "      <td>2015-02-02 09:17:00</td>\n",
       "      <td>143.30</td>\n",
       "      <td>144.00</td>\n",
       "      <td>143.30</td>\n",
       "      <td>144.00</td>\n",
       "      <td>150</td>\n",
       "      <td>NaN</td>\n",
       "      <td>144.598760</td>\n",
       "      <td>NaN</td>\n",
       "      <td>NaN</td>\n",
       "      <td>0</td>\n",
       "    </tr>\n",
       "    <tr>\n",
       "      <th>3</th>\n",
       "      <td>2015-02-02 09:18:00</td>\n",
       "      <td>144.00</td>\n",
       "      <td>144.30</td>\n",
       "      <td>144.00</td>\n",
       "      <td>144.30</td>\n",
       "      <td>200</td>\n",
       "      <td>NaN</td>\n",
       "      <td>144.544440</td>\n",
       "      <td>NaN</td>\n",
       "      <td>NaN</td>\n",
       "      <td>0</td>\n",
       "    </tr>\n",
       "    <tr>\n",
       "      <th>4</th>\n",
       "      <td>2015-02-02 09:19:00</td>\n",
       "      <td>144.30</td>\n",
       "      <td>144.95</td>\n",
       "      <td>144.30</td>\n",
       "      <td>144.95</td>\n",
       "      <td>180</td>\n",
       "      <td>NaN</td>\n",
       "      <td>144.618178</td>\n",
       "      <td>NaN</td>\n",
       "      <td>NaN</td>\n",
       "      <td>0</td>\n",
       "    </tr>\n",
       "    <tr>\n",
       "      <th>...</th>\n",
       "      <td>...</td>\n",
       "      <td>...</td>\n",
       "      <td>...</td>\n",
       "      <td>...</td>\n",
       "      <td>...</td>\n",
       "      <td>...</td>\n",
       "      <td>...</td>\n",
       "      <td>...</td>\n",
       "      <td>...</td>\n",
       "      <td>...</td>\n",
       "      <td>...</td>\n",
       "    </tr>\n",
       "    <tr>\n",
       "      <th>927138</th>\n",
       "      <td>2025-02-07 15:25:00</td>\n",
       "      <td>1795.95</td>\n",
       "      <td>1798.00</td>\n",
       "      <td>1795.45</td>\n",
       "      <td>1798.00</td>\n",
       "      <td>4813</td>\n",
       "      <td>1796.865</td>\n",
       "      <td>1797.006881</td>\n",
       "      <td>0.033382</td>\n",
       "      <td>10434.1</td>\n",
       "      <td>0</td>\n",
       "    </tr>\n",
       "    <tr>\n",
       "      <th>927139</th>\n",
       "      <td>2025-02-07 15:26:00</td>\n",
       "      <td>1797.95</td>\n",
       "      <td>1797.95</td>\n",
       "      <td>1795.50</td>\n",
       "      <td>1796.90</td>\n",
       "      <td>6919</td>\n",
       "      <td>1796.760</td>\n",
       "      <td>1796.987448</td>\n",
       "      <td>-0.058400</td>\n",
       "      <td>6422.0</td>\n",
       "      <td>0</td>\n",
       "    </tr>\n",
       "    <tr>\n",
       "      <th>927140</th>\n",
       "      <td>2025-02-07 15:27:00</td>\n",
       "      <td>1796.20</td>\n",
       "      <td>1799.75</td>\n",
       "      <td>1795.85</td>\n",
       "      <td>1798.70</td>\n",
       "      <td>2909</td>\n",
       "      <td>1796.835</td>\n",
       "      <td>1797.298821</td>\n",
       "      <td>0.041714</td>\n",
       "      <td>6430.0</td>\n",
       "      <td>0</td>\n",
       "    </tr>\n",
       "    <tr>\n",
       "      <th>927141</th>\n",
       "      <td>2025-02-07 15:28:00</td>\n",
       "      <td>1797.75</td>\n",
       "      <td>1800.30</td>\n",
       "      <td>1797.65</td>\n",
       "      <td>1798.50</td>\n",
       "      <td>7106</td>\n",
       "      <td>1797.060</td>\n",
       "      <td>1797.517217</td>\n",
       "      <td>0.125261</td>\n",
       "      <td>6525.8</td>\n",
       "      <td>0</td>\n",
       "    </tr>\n",
       "    <tr>\n",
       "      <th>927142</th>\n",
       "      <td>2025-02-07 15:29:00</td>\n",
       "      <td>1798.50</td>\n",
       "      <td>1800.00</td>\n",
       "      <td>1796.35</td>\n",
       "      <td>1800.00</td>\n",
       "      <td>947</td>\n",
       "      <td>1797.360</td>\n",
       "      <td>1797.968632</td>\n",
       "      <td>0.166945</td>\n",
       "      <td>6094.3</td>\n",
       "      <td>0</td>\n",
       "    </tr>\n",
       "  </tbody>\n",
       "</table>\n",
       "<p>927143 rows × 11 columns</p>\n",
       "</div>"
      ],
      "text/plain": [
       "                      date     open     high      low    close  volume  \\\n",
       "0      2015-02-02 09:15:00   144.30   145.05   144.30   145.05      50   \n",
       "1      2015-02-02 09:16:00   145.05   145.05   143.30   143.30     810   \n",
       "2      2015-02-02 09:17:00   143.30   144.00   143.30   144.00     150   \n",
       "3      2015-02-02 09:18:00   144.00   144.30   144.00   144.30     200   \n",
       "4      2015-02-02 09:19:00   144.30   144.95   144.30   144.95     180   \n",
       "...                    ...      ...      ...      ...      ...     ...   \n",
       "927138 2025-02-07 15:25:00  1795.95  1798.00  1795.45  1798.00    4813   \n",
       "927139 2025-02-07 15:26:00  1797.95  1797.95  1795.50  1796.90    6919   \n",
       "927140 2025-02-07 15:27:00  1796.20  1799.75  1795.85  1798.70    2909   \n",
       "927141 2025-02-07 15:28:00  1797.75  1800.30  1797.65  1798.50    7106   \n",
       "927142 2025-02-07 15:29:00  1798.50  1800.00  1796.35  1800.00     947   \n",
       "\n",
       "          sma_10       ema_10    roc_10  avg_volume_10  volume_spike  \n",
       "0            NaN   145.050000       NaN            NaN             0  \n",
       "1            NaN   144.731818       NaN            NaN             0  \n",
       "2            NaN   144.598760       NaN            NaN             0  \n",
       "3            NaN   144.544440       NaN            NaN             0  \n",
       "4            NaN   144.618178       NaN            NaN             0  \n",
       "...          ...          ...       ...            ...           ...  \n",
       "927138  1796.865  1797.006881  0.033382        10434.1             0  \n",
       "927139  1796.760  1796.987448 -0.058400         6422.0             0  \n",
       "927140  1796.835  1797.298821  0.041714         6430.0             0  \n",
       "927141  1797.060  1797.517217  0.125261         6525.8             0  \n",
       "927142  1797.360  1797.968632  0.166945         6094.3             0  \n",
       "\n",
       "[927143 rows x 11 columns]"
      ]
     },
     "execution_count": 12,
     "metadata": {},
     "output_type": "execute_result"
    }
   ],
   "source": [
    "df"
   ]
  },
  {
   "cell_type": "code",
   "execution_count": 13,
   "id": "c64c7d45-f2bc-4bc8-a2fb-18780df21145",
   "metadata": {},
   "outputs": [
    {
     "data": {
      "text/plain": [
       "date              0\n",
       "open              0\n",
       "high              0\n",
       "low               0\n",
       "close             0\n",
       "volume            0\n",
       "sma_10            9\n",
       "ema_10            0\n",
       "roc_10           10\n",
       "avg_volume_10     9\n",
       "volume_spike      0\n",
       "dtype: int64"
      ]
     },
     "execution_count": 13,
     "metadata": {},
     "output_type": "execute_result"
    }
   ],
   "source": [
    "df.isnull().sum()"
   ]
  },
  {
   "cell_type": "code",
   "execution_count": 14,
   "id": "394a38a8-d011-408a-883b-771d33eea608",
   "metadata": {},
   "outputs": [
    {
     "data": {
      "text/html": [
       "<div>\n",
       "<style scoped>\n",
       "    .dataframe tbody tr th:only-of-type {\n",
       "        vertical-align: middle;\n",
       "    }\n",
       "\n",
       "    .dataframe tbody tr th {\n",
       "        vertical-align: top;\n",
       "    }\n",
       "\n",
       "    .dataframe thead th {\n",
       "        text-align: right;\n",
       "    }\n",
       "</style>\n",
       "<table border=\"1\" class=\"dataframe\">\n",
       "  <thead>\n",
       "    <tr style=\"text-align: right;\">\n",
       "      <th></th>\n",
       "      <th>date</th>\n",
       "      <th>open</th>\n",
       "      <th>high</th>\n",
       "      <th>low</th>\n",
       "      <th>close</th>\n",
       "      <th>volume</th>\n",
       "      <th>sma_10</th>\n",
       "      <th>ema_10</th>\n",
       "      <th>roc_10</th>\n",
       "      <th>avg_volume_10</th>\n",
       "      <th>volume_spike</th>\n",
       "    </tr>\n",
       "  </thead>\n",
       "  <tbody>\n",
       "    <tr>\n",
       "      <th>10</th>\n",
       "      <td>2015-02-02 09:25:00</td>\n",
       "      <td>144.00</td>\n",
       "      <td>144.00</td>\n",
       "      <td>143.85</td>\n",
       "      <td>143.85</td>\n",
       "      <td>680</td>\n",
       "      <td>144.300</td>\n",
       "      <td>144.396111</td>\n",
       "      <td>-0.827301</td>\n",
       "      <td>419.0</td>\n",
       "      <td>1</td>\n",
       "    </tr>\n",
       "    <tr>\n",
       "      <th>11</th>\n",
       "      <td>2015-02-02 09:26:00</td>\n",
       "      <td>143.85</td>\n",
       "      <td>143.85</td>\n",
       "      <td>143.80</td>\n",
       "      <td>143.80</td>\n",
       "      <td>20</td>\n",
       "      <td>144.350</td>\n",
       "      <td>144.287727</td>\n",
       "      <td>0.348918</td>\n",
       "      <td>340.0</td>\n",
       "      <td>0</td>\n",
       "    </tr>\n",
       "    <tr>\n",
       "      <th>12</th>\n",
       "      <td>2015-02-02 09:27:00</td>\n",
       "      <td>143.80</td>\n",
       "      <td>143.80</td>\n",
       "      <td>143.40</td>\n",
       "      <td>143.40</td>\n",
       "      <td>100</td>\n",
       "      <td>144.290</td>\n",
       "      <td>144.126322</td>\n",
       "      <td>-0.416667</td>\n",
       "      <td>335.0</td>\n",
       "      <td>0</td>\n",
       "    </tr>\n",
       "    <tr>\n",
       "      <th>13</th>\n",
       "      <td>2015-02-02 09:28:00</td>\n",
       "      <td>143.40</td>\n",
       "      <td>143.40</td>\n",
       "      <td>142.95</td>\n",
       "      <td>143.00</td>\n",
       "      <td>650</td>\n",
       "      <td>144.160</td>\n",
       "      <td>143.921536</td>\n",
       "      <td>-0.900901</td>\n",
       "      <td>380.0</td>\n",
       "      <td>1</td>\n",
       "    </tr>\n",
       "    <tr>\n",
       "      <th>14</th>\n",
       "      <td>2015-02-02 09:29:00</td>\n",
       "      <td>143.00</td>\n",
       "      <td>143.00</td>\n",
       "      <td>142.90</td>\n",
       "      <td>143.00</td>\n",
       "      <td>210</td>\n",
       "      <td>143.965</td>\n",
       "      <td>143.753984</td>\n",
       "      <td>-1.345291</td>\n",
       "      <td>383.0</td>\n",
       "      <td>0</td>\n",
       "    </tr>\n",
       "    <tr>\n",
       "      <th>...</th>\n",
       "      <td>...</td>\n",
       "      <td>...</td>\n",
       "      <td>...</td>\n",
       "      <td>...</td>\n",
       "      <td>...</td>\n",
       "      <td>...</td>\n",
       "      <td>...</td>\n",
       "      <td>...</td>\n",
       "      <td>...</td>\n",
       "      <td>...</td>\n",
       "      <td>...</td>\n",
       "    </tr>\n",
       "    <tr>\n",
       "      <th>927138</th>\n",
       "      <td>2025-02-07 15:25:00</td>\n",
       "      <td>1795.95</td>\n",
       "      <td>1798.00</td>\n",
       "      <td>1795.45</td>\n",
       "      <td>1798.00</td>\n",
       "      <td>4813</td>\n",
       "      <td>1796.865</td>\n",
       "      <td>1797.006881</td>\n",
       "      <td>0.033382</td>\n",
       "      <td>10434.1</td>\n",
       "      <td>0</td>\n",
       "    </tr>\n",
       "    <tr>\n",
       "      <th>927139</th>\n",
       "      <td>2025-02-07 15:26:00</td>\n",
       "      <td>1797.95</td>\n",
       "      <td>1797.95</td>\n",
       "      <td>1795.50</td>\n",
       "      <td>1796.90</td>\n",
       "      <td>6919</td>\n",
       "      <td>1796.760</td>\n",
       "      <td>1796.987448</td>\n",
       "      <td>-0.058400</td>\n",
       "      <td>6422.0</td>\n",
       "      <td>0</td>\n",
       "    </tr>\n",
       "    <tr>\n",
       "      <th>927140</th>\n",
       "      <td>2025-02-07 15:27:00</td>\n",
       "      <td>1796.20</td>\n",
       "      <td>1799.75</td>\n",
       "      <td>1795.85</td>\n",
       "      <td>1798.70</td>\n",
       "      <td>2909</td>\n",
       "      <td>1796.835</td>\n",
       "      <td>1797.298821</td>\n",
       "      <td>0.041714</td>\n",
       "      <td>6430.0</td>\n",
       "      <td>0</td>\n",
       "    </tr>\n",
       "    <tr>\n",
       "      <th>927141</th>\n",
       "      <td>2025-02-07 15:28:00</td>\n",
       "      <td>1797.75</td>\n",
       "      <td>1800.30</td>\n",
       "      <td>1797.65</td>\n",
       "      <td>1798.50</td>\n",
       "      <td>7106</td>\n",
       "      <td>1797.060</td>\n",
       "      <td>1797.517217</td>\n",
       "      <td>0.125261</td>\n",
       "      <td>6525.8</td>\n",
       "      <td>0</td>\n",
       "    </tr>\n",
       "    <tr>\n",
       "      <th>927142</th>\n",
       "      <td>2025-02-07 15:29:00</td>\n",
       "      <td>1798.50</td>\n",
       "      <td>1800.00</td>\n",
       "      <td>1796.35</td>\n",
       "      <td>1800.00</td>\n",
       "      <td>947</td>\n",
       "      <td>1797.360</td>\n",
       "      <td>1797.968632</td>\n",
       "      <td>0.166945</td>\n",
       "      <td>6094.3</td>\n",
       "      <td>0</td>\n",
       "    </tr>\n",
       "  </tbody>\n",
       "</table>\n",
       "<p>927133 rows × 11 columns</p>\n",
       "</div>"
      ],
      "text/plain": [
       "                      date     open     high      low    close  volume  \\\n",
       "10     2015-02-02 09:25:00   144.00   144.00   143.85   143.85     680   \n",
       "11     2015-02-02 09:26:00   143.85   143.85   143.80   143.80      20   \n",
       "12     2015-02-02 09:27:00   143.80   143.80   143.40   143.40     100   \n",
       "13     2015-02-02 09:28:00   143.40   143.40   142.95   143.00     650   \n",
       "14     2015-02-02 09:29:00   143.00   143.00   142.90   143.00     210   \n",
       "...                    ...      ...      ...      ...      ...     ...   \n",
       "927138 2025-02-07 15:25:00  1795.95  1798.00  1795.45  1798.00    4813   \n",
       "927139 2025-02-07 15:26:00  1797.95  1797.95  1795.50  1796.90    6919   \n",
       "927140 2025-02-07 15:27:00  1796.20  1799.75  1795.85  1798.70    2909   \n",
       "927141 2025-02-07 15:28:00  1797.75  1800.30  1797.65  1798.50    7106   \n",
       "927142 2025-02-07 15:29:00  1798.50  1800.00  1796.35  1800.00     947   \n",
       "\n",
       "          sma_10       ema_10    roc_10  avg_volume_10  volume_spike  \n",
       "10       144.300   144.396111 -0.827301          419.0             1  \n",
       "11       144.350   144.287727  0.348918          340.0             0  \n",
       "12       144.290   144.126322 -0.416667          335.0             0  \n",
       "13       144.160   143.921536 -0.900901          380.0             1  \n",
       "14       143.965   143.753984 -1.345291          383.0             0  \n",
       "...          ...          ...       ...            ...           ...  \n",
       "927138  1796.865  1797.006881  0.033382        10434.1             0  \n",
       "927139  1796.760  1796.987448 -0.058400         6422.0             0  \n",
       "927140  1796.835  1797.298821  0.041714         6430.0             0  \n",
       "927141  1797.060  1797.517217  0.125261         6525.8             0  \n",
       "927142  1797.360  1797.968632  0.166945         6094.3             0  \n",
       "\n",
       "[927133 rows x 11 columns]"
      ]
     },
     "execution_count": 14,
     "metadata": {},
     "output_type": "execute_result"
    }
   ],
   "source": [
    "df.dropna()"
   ]
  },
  {
   "cell_type": "code",
   "execution_count": 15,
   "id": "5f728bda-81b3-472a-b89a-f27aad0ed435",
   "metadata": {},
   "outputs": [
    {
     "data": {
      "text/plain": [
       "date              0\n",
       "open              0\n",
       "high              0\n",
       "low               0\n",
       "close             0\n",
       "volume            0\n",
       "sma_10            9\n",
       "ema_10            0\n",
       "roc_10           10\n",
       "avg_volume_10     9\n",
       "volume_spike      0\n",
       "dtype: int64"
      ]
     },
     "execution_count": 15,
     "metadata": {},
     "output_type": "execute_result"
    }
   ],
   "source": [
    "df.isnull().sum()"
   ]
  },
  {
   "cell_type": "code",
   "execution_count": 17,
   "id": "9df2e46d-9106-4568-b7be-2e67c74f2925",
   "metadata": {},
   "outputs": [],
   "source": [
    "df = df.dropna()"
   ]
  },
  {
   "cell_type": "code",
   "execution_count": 18,
   "id": "83e50681-19f3-497f-8c55-7c9dfe884259",
   "metadata": {},
   "outputs": [
    {
     "data": {
      "text/plain": [
       "date             0\n",
       "open             0\n",
       "high             0\n",
       "low              0\n",
       "close            0\n",
       "volume           0\n",
       "sma_10           0\n",
       "ema_10           0\n",
       "roc_10           0\n",
       "avg_volume_10    0\n",
       "volume_spike     0\n",
       "dtype: int64"
      ]
     },
     "execution_count": 18,
     "metadata": {},
     "output_type": "execute_result"
    }
   ],
   "source": [
    "df.isnull().sum()"
   ]
  },
  {
   "cell_type": "code",
   "execution_count": null,
   "id": "50229baa-c104-41de-b6a9-ab4cceb6f31c",
   "metadata": {},
   "outputs": [],
   "source": [
    "# No Normalization or Standardization is required as we are going to use Isolation Forest"
   ]
  },
  {
   "cell_type": "markdown",
   "id": "232b4f72-0628-42a5-b7ce-87ef9a42752e",
   "metadata": {},
   "source": [
    "## Isolation Forest"
   ]
  },
  {
   "cell_type": "code",
   "execution_count": 32,
   "id": "513c5e31-f750-4637-a19a-cffe96704122",
   "metadata": {},
   "outputs": [],
   "source": [
    "features = ['sma_10','roc_10','volume_spike']\n",
    "x = df[features]"
   ]
  },
  {
   "cell_type": "code",
   "execution_count": 33,
   "id": "d6f9dd13-4d7d-479a-a39b-1485258feb87",
   "metadata": {},
   "outputs": [
    {
     "name": "stdout",
     "output_type": "stream",
     "text": [
      "NaNs present? sma_10          0\n",
      "roc_10          0\n",
      "volume_spike    0\n",
      "dtype: int64\n"
     ]
    }
   ],
   "source": [
    "# Check for NaNs\n",
    "print(\"NaNs present?\", x.isna().sum())\n",
    "\n"
   ]
  },
  {
   "cell_type": "code",
   "execution_count": 39,
   "id": "1287f1be-dc86-4bde-865e-e62841d91f30",
   "metadata": {},
   "outputs": [
    {
     "name": "stdout",
     "output_type": "stream",
     "text": [
      "Infs present? sma_10          0\n",
      "roc_10          0\n",
      "volume_spike    0\n",
      "dtype: int64\n"
     ]
    }
   ],
   "source": [
    "# Check for Infs\n",
    "print(\"Infs present?\", np.isinf(x).sum())"
   ]
  },
  {
   "cell_type": "code",
   "execution_count": 35,
   "id": "cb95086a-ec7d-4386-8131-2311deeafb09",
   "metadata": {},
   "outputs": [
    {
     "name": "stderr",
     "output_type": "stream",
     "text": [
      "C:\\Users\\Groot\\AppData\\Local\\Temp\\ipykernel_7816\\2445043161.py:2: SettingWithCopyWarning: \n",
      "A value is trying to be set on a copy of a slice from a DataFrame\n",
      "\n",
      "See the caveats in the documentation: https://pandas.pydata.org/pandas-docs/stable/user_guide/indexing.html#returning-a-view-versus-a-copy\n",
      "  x.replace([np.inf, -np.inf], np.nan, inplace=True)\n"
     ]
    }
   ],
   "source": [
    "# Replace inf/-inf with NaN\n",
    "x.replace([np.inf, -np.inf], np.nan, inplace=True)"
   ]
  },
  {
   "cell_type": "code",
   "execution_count": 36,
   "id": "09c8398f-82f5-4983-a566-6a8a610d3904",
   "metadata": {},
   "outputs": [
    {
     "name": "stderr",
     "output_type": "stream",
     "text": [
      "C:\\Users\\Groot\\AppData\\Local\\Temp\\ipykernel_7816\\3448593522.py:2: SettingWithCopyWarning: \n",
      "A value is trying to be set on a copy of a slice from a DataFrame\n",
      "\n",
      "See the caveats in the documentation: https://pandas.pydata.org/pandas-docs/stable/user_guide/indexing.html#returning-a-view-versus-a-copy\n",
      "  x.dropna(inplace=True)\n"
     ]
    }
   ],
   "source": [
    "# Drop rows with any NaN values\n",
    "x.dropna(inplace=True)"
   ]
  },
  {
   "cell_type": "code",
   "execution_count": 37,
   "id": "c3631bc6-65f4-4f9d-93b0-f4937bad637e",
   "metadata": {},
   "outputs": [
    {
     "data": {
      "text/plain": [
       "sma_10          0\n",
       "roc_10          0\n",
       "volume_spike    0\n",
       "dtype: int64"
      ]
     },
     "execution_count": 37,
     "metadata": {},
     "output_type": "execute_result"
    }
   ],
   "source": [
    "x.isnull().sum()"
   ]
  },
  {
   "cell_type": "code",
   "execution_count": 38,
   "id": "cd2bf39b-50cf-46e0-87e5-fd1edf20a6a5",
   "metadata": {},
   "outputs": [
    {
     "data": {
      "text/plain": [
       "(927132, 3)"
      ]
     },
     "execution_count": 38,
     "metadata": {},
     "output_type": "execute_result"
    }
   ],
   "source": [
    "x.shape"
   ]
  },
  {
   "cell_type": "code",
   "execution_count": 40,
   "id": "0623bfcd-f6b3-4a7a-935c-660a0d287477",
   "metadata": {},
   "outputs": [],
   "source": [
    "from sklearn.ensemble import IsolationForest"
   ]
  },
  {
   "cell_type": "code",
   "execution_count": 41,
   "id": "b4607bed-6a0f-4f89-91f8-7ac74aac8b52",
   "metadata": {},
   "outputs": [
    {
     "name": "stderr",
     "output_type": "stream",
     "text": [
      "C:\\Users\\Groot\\AppData\\Local\\Temp\\ipykernel_7816\\3112600147.py:2: SettingWithCopyWarning: \n",
      "A value is trying to be set on a copy of a slice from a DataFrame.\n",
      "Try using .loc[row_indexer,col_indexer] = value instead\n",
      "\n",
      "See the caveats in the documentation: https://pandas.pydata.org/pandas-docs/stable/user_guide/indexing.html#returning-a-view-versus-a-copy\n",
      "  df.loc[x.index, 'anomaly'] = iso_model.fit_predict(x)\n"
     ]
    }
   ],
   "source": [
    "iso_model = IsolationForest(contamination=0.01, random_state=42)\n",
    "df.loc[x.index, 'anomaly'] = iso_model.fit_predict(x)"
   ]
  },
  {
   "cell_type": "code",
   "execution_count": 42,
   "id": "443bc111-7803-4d07-b774-e4f7809abe49",
   "metadata": {},
   "outputs": [
    {
     "name": "stderr",
     "output_type": "stream",
     "text": [
      "C:\\Users\\Groot\\AppData\\Local\\Temp\\ipykernel_7816\\359408759.py:2: SettingWithCopyWarning: \n",
      "A value is trying to be set on a copy of a slice from a DataFrame.\n",
      "Try using .loc[row_indexer,col_indexer] = value instead\n",
      "\n",
      "See the caveats in the documentation: https://pandas.pydata.org/pandas-docs/stable/user_guide/indexing.html#returning-a-view-versus-a-copy\n",
      "  df['anomaly'] = df['anomaly'].map({1: 0, -1: 1})\n"
     ]
    }
   ],
   "source": [
    "# Map to binary: -1 = anomaly, 1 = normal\n",
    "df['anomaly'] = df['anomaly'].map({1: 0, -1: 1})"
   ]
  },
  {
   "cell_type": "code",
   "execution_count": 44,
   "id": "135f8018-75ac-42d9-9054-725bbaa46fad",
   "metadata": {},
   "outputs": [
    {
     "data": {
      "image/png": "[encoded data removed]",
      "text/plain": [
       "<Figure size 1200x600 with 1 Axes>"
      ]
     },
     "metadata": {},
     "output_type": "display_data"
    }
   ],
   "source": [
    "import matplotlib.pyplot as plt\n",
    "\n",
    "plt.figure(figsize=(12,6))\n",
    "plt.plot(df['date'], df['close'], label='Close Price')\n",
    "plt.scatter(df[df['anomaly'] == 1]['date'], df[df['anomaly'] == 1]['close'], \n",
    "            color='red', label='Anomalies', marker='d')\n",
    "plt.legend()\n",
    "plt.title(\"Anomalies Detected by Isolation Forest\")\n",
    "plt.xlabel(\"Date\")\n",
    "plt.ylabel(\"Price\")\n",
    "plt.show()"
   ]
  },
  {
   "cell_type": "code",
   "execution_count": null,
   "id": "1e98864f-7a00-4d28-a290-c4e49825c9b2",
   "metadata": {},
   "outputs": [],
   "source": []
  }
 ],
 "metadata": {
  "kernelspec": {
   "display_name": "Python 3 (ipykernel)",
   "language": "python",
   "name": "python3"
  },
  "language_info": {
   "codemirror_mode": {
    "name": "ipython",
    "version": 3
   },
   "file_extension": ".py",
   "mimetype": "text/x-python",
   "name": "python",
   "nbconvert_exporter": "python",
   "pygments_lexer": "ipython3",
   "version": "3.12.4"
  }
 },
 "nbformat": 4,
 "nbformat_minor": 5
}
